{
 "cells": [
  {
   "cell_type": "markdown",
   "source": [
    "Import the necessary modules and stackoverflow csv files for 2019."
   ],
   "metadata": {
    "collapsed": false
   }
  },
  {
   "cell_type": "code",
   "execution_count": null,
   "outputs": [],
   "source": [
    "import numpy as np\n",
    "import pandas as pd\n",
    "import matplotlib.pyplot as plt\n",
    "from util_functions import *\n",
    "%matplotlib inline\n",
    "\n",
    "df = pd.read_csv('./2019/survey_results_public.csv')\n",
    "schema = pd.read_csv('./2019/survey_results_schema.csv')"
   ],
   "metadata": {
    "collapsed": false,
    "pycharm": {
     "name": "#%%\n",
     "is_executing": true
    }
   }
  },
  {
   "cell_type": "markdown",
   "source": [
    "Give a quick view of the survey results:"
   ],
   "metadata": {
    "collapsed": false
   }
  },
  {
   "cell_type": "code",
   "execution_count": null,
   "outputs": [],
   "source": [
    "df.head()"
   ],
   "metadata": {
    "collapsed": false,
    "pycharm": {
     "name": "#%%\n",
     "is_executing": true
    }
   }
  },
  {
   "cell_type": "markdown",
   "source": [
    "Give a quick view of the survey schema:"
   ],
   "metadata": {
    "collapsed": false
   }
  },
  {
   "cell_type": "code",
   "execution_count": null,
   "outputs": [],
   "source": [
    "schema.head()"
   ],
   "metadata": {
    "collapsed": false,
    "pycharm": {
     "name": "#%%\n",
     "is_executing": true
    }
   }
  },
  {
   "cell_type": "markdown",
   "source": [
    "Lets take a look at the stats for this data set to get a feel for what we are looking at:"
   ],
   "metadata": {
    "collapsed": false
   }
  },
  {
   "cell_type": "code",
   "execution_count": null,
   "outputs": [],
   "source": [
    "df.shape"
   ],
   "metadata": {
    "collapsed": false,
    "pycharm": {
     "name": "#%%\n",
     "is_executing": true
    }
   }
  },
  {
   "cell_type": "markdown",
   "source": [
    "Lets see if we have any columns that do NOT have missing data (NaN values).  This will be a much smaller list compared to showing the rows that have missing values:"
   ],
   "metadata": {
    "collapsed": false
   }
  },
  {
   "cell_type": "code",
   "execution_count": null,
   "outputs": [],
   "source": [
    "no_nulls = set(df.columns[df.isnull().mean()==0]) #Set of columns with 0 missing values.\n",
    "no_nulls"
   ],
   "metadata": {
    "collapsed": false,
    "pycharm": {
     "name": "#%%\n",
     "is_executing": true
    }
   }
  },
  {
   "cell_type": "code",
   "execution_count": null,
   "outputs": [],
   "source": [
    "most_missing_cols = df.columns[df.isnull().mean() > 0.25] #Set of columns with more than 25% of the values missing\n",
    "most_missing_cols"
   ],
   "metadata": {
    "collapsed": false,
    "pycharm": {
     "name": "#%%\n",
     "is_executing": true
    }
   }
  },
  {
   "cell_type": "markdown",
   "source": [
    "Lets have a look at the DevType question we wish to drill into to find respondants that work in Data Science"
   ],
   "metadata": {
    "collapsed": false
   }
  },
  {
   "cell_type": "code",
   "execution_count": null,
   "outputs": [],
   "source": [
    "get_description('DevType', schema)"
   ],
   "metadata": {
    "collapsed": false,
    "pycharm": {
     "name": "#%%\n",
     "is_executing": true
    }
   }
  },
  {
   "cell_type": "markdown",
   "source": [
    "Lets take a look at a breakdown of the number of people that classify themselves doing particular jobs.  Keep in mind that when answering the question someone can pick multiple roles."
   ],
   "metadata": {
    "collapsed": false
   }
  },
  {
   "cell_type": "code",
   "execution_count": null,
   "outputs": [],
   "source": [
    "list_values = count_lists(df, col='DevType', delim=';')\n",
    "props_df = clean_and_plot(df, list_values, col='DevType', title='Other Roles')"
   ],
   "metadata": {
    "collapsed": false,
    "pycharm": {
     "name": "#%%\n",
     "is_executing": true
    }
   }
  },
  {
   "cell_type": "markdown",
   "source": [
    "Lets focus on the rows for DevTypes that consider their job or part of their job a \"Data scientist or machine learning specialist\".  This will leave us with 6460 rows to work with. We will also remove the null values prior to this."
   ],
   "metadata": {
    "collapsed": false
   }
  },
  {
   "cell_type": "code",
   "execution_count": null,
   "outputs": [],
   "source": [
    "df = df[df.DevType.notnull()]\n",
    "df_origin = df[df['DevType'].str.contains('Data scientist or machine learning specialist') == False]\n",
    "df = df[df['DevType'].str.contains('Data scientist or machine learning specialist')]\n",
    "print(df['DevType'].shape, df_origin.shape)"
   ],
   "metadata": {
    "collapsed": false,
    "pycharm": {
     "name": "#%%\n",
     "is_executing": true
    }
   }
  },
  {
   "cell_type": "code",
   "execution_count": null,
   "outputs": [],
   "source": [
    "We want to see what the education levels are for those in the Data Science/ML field(s):"
   ],
   "metadata": {
    "collapsed": false,
    "pycharm": {
     "name": "#%%\n",
     "is_executing": true
    }
   }
  },
  {
   "cell_type": "code",
   "execution_count": null,
   "outputs": [],
   "source": [
    "chart_values = df.EdLevel.value_counts()\n",
    "(chart_values/df.shape[0]).plot(kind=\"bar\");\n",
    "plt.title(\"DS/ML Education Levels\");"
   ],
   "metadata": {
    "collapsed": false,
    "pycharm": {
     "name": "#%%\n",
     "is_executing": true
    }
   }
  },
  {
   "cell_type": "code",
   "execution_count": null,
   "outputs": [],
   "source": [
    "chart_values = df_origin.EdLevel.value_counts()\n",
    "(chart_values/df_origin.shape[0]).plot(kind=\"bar\");\n",
    "plt.title(\"Other Education Levels\");"
   ],
   "metadata": {
    "collapsed": false,
    "pycharm": {
     "name": "#%%\n",
     "is_executing": true
    }
   }
  },
  {
   "cell_type": "code",
   "execution_count": null,
   "outputs": [],
   "source": [
    "Lets also have a look to see what the majors were for those in the Data Science/ML field(s):"
   ],
   "metadata": {
    "collapsed": false,
    "pycharm": {
     "name": "#%%\n",
     "is_executing": true
    }
   }
  },
  {
   "cell_type": "code",
   "execution_count": null,
   "outputs": [],
   "source": [
    "chart_values = df.UndergradMajor.value_counts() \n",
    "(chart_values/df.shape[0]).plot(kind=\"bar\");\n",
    "plt.title(\"Undergraduate Major\");"
   ],
   "metadata": {
    "collapsed": false,
    "pycharm": {
     "name": "#%%\n",
     "is_executing": true
    }
   }
  },
  {
   "cell_type": "code",
   "execution_count": null,
   "outputs": [],
   "source": [
    "chart_values = df_origin.UndergradMajor.value_counts() \n",
    "(chart_values/df_origin.shape[0]).plot(kind=\"bar\");\n",
    "plt.title(\"Undergraduate Major\");"
   ],
   "metadata": {
    "collapsed": false,
    "pycharm": {
     "name": "#%%\n",
     "is_executing": true
    }
   }
  },
  {
   "cell_type": "code",
   "execution_count": null,
   "outputs": [],
   "source": [
    "Out of curiosity, lets take a look at the average compensation (converted to USD) and average hours worked per week:"
   ],
   "metadata": {
    "collapsed": false,
    "pycharm": {
     "name": "#%%\n",
     "is_executing": true
    }
   }
  },
  {
   "cell_type": "code",
   "execution_count": null,
   "outputs": [],
   "source": [
    "comp = df.ConvertedComp.mean()\n",
    "hours = df.WorkWeekHrs.mean()\n",
    "\n",
    "print(\"Compensation: ${:,.2f}\\nHours: {}\".format(comp, round(hours,1)))"
   ],
   "metadata": {
    "collapsed": false,
    "pycharm": {
     "name": "#%%\n",
     "is_executing": true
    }
   }
  },
  {
   "cell_type": "code",
   "execution_count": null,
   "outputs": [],
   "source": [
    "comp = df_origin.ConvertedComp.mean()\n",
    "hours = df_origin.WorkWeekHrs.mean()\n",
    "\n",
    "print(\"Compensation: ${:,.2f}\\nHours: {}\".format(comp, round(hours,1)))"
   ],
   "metadata": {
    "collapsed": false,
    "pycharm": {
     "name": "#%%\n",
     "is_executing": true
    }
   }
  },
  {
   "cell_type": "markdown",
   "source": [
    "Lets take a look at the amount of time people in the DS/ML fields spend remotely working:"
   ],
   "metadata": {
    "collapsed": false
   }
  },
  {
   "cell_type": "code",
   "execution_count": null,
   "outputs": [],
   "source": [
    "chart_values = df.WorkRemote.value_counts() \n",
    "(chart_values/df.shape[0]).plot(kind=\"bar\");\n",
    "plt.title(\"Remote Work Hours\");"
   ],
   "metadata": {
    "collapsed": false,
    "pycharm": {
     "name": "#%%\n",
     "is_executing": true
    }
   }
  },
  {
   "cell_type": "code",
   "execution_count": null,
   "outputs": [],
   "source": [
    "chart_values = df_origin.WorkRemote.value_counts() \n",
    "(chart_values/df_origin.shape[0]).plot(kind=\"bar\");\n",
    "plt.title(\"Remote Work Hours\");"
   ],
   "metadata": {
    "collapsed": false,
    "pycharm": {
     "name": "#%%\n",
     "is_executing": true
    }
   }
  },
  {
   "cell_type": "markdown",
   "source": [
    "We are curious about the location people work to see if it lines up with the reported hours worked remotely.  "
   ],
   "metadata": {
    "collapsed": false
   }
  },
  {
   "cell_type": "code",
   "execution_count": null,
   "outputs": [],
   "source": [
    "chart_values = df.WorkLoc.value_counts() \n",
    "(chart_values/df.shape[0]).plot(kind=\"bar\");\n",
    "plt.title(\"Work location\");"
   ],
   "metadata": {
    "collapsed": false,
    "pycharm": {
     "name": "#%%\n",
     "is_executing": true
    }
   }
  },
  {
   "cell_type": "code",
   "execution_count": null,
   "outputs": [],
   "source": [
    "chart_values = df_origin.WorkLoc.value_counts() \n",
    "(chart_values/df_origin.shape[0]).plot(kind=\"bar\");\n",
    "plt.title(\"Work location\");"
   ],
   "metadata": {
    "collapsed": false,
    "pycharm": {
     "name": "#%%\n",
     "is_executing": true
    }
   }
  },
  {
   "cell_type": "code",
   "execution_count": null,
   "outputs": [],
   "source": [],
   "metadata": {
    "collapsed": false,
    "pycharm": {
     "name": "#%%\n",
     "is_executing": true
    }
   }
  },
  {
   "cell_type": "code",
   "execution_count": null,
   "outputs": [],
   "source": [
    "chart_values = df.Age.value_counts(bins=10) \n",
    "(chart_values/df.shape[0]).plot(kind=\"bar\");\n",
    "plt.title(\"Age Groups\");"
   ],
   "metadata": {
    "collapsed": false,
    "pycharm": {
     "name": "#%%\n",
     "is_executing": true
    }
   }
  },
  {
   "cell_type": "code",
   "execution_count": null,
   "outputs": [],
   "source": [
    "chart_values = df_origin.Age.value_counts(bins=10) \n",
    "(chart_values/df_origin.shape[0]).plot(kind=\"bar\");\n",
    "plt.title(\"Age Groups\");"
   ],
   "metadata": {
    "collapsed": false,
    "pycharm": {
     "name": "#%%\n",
     "is_executing": true
    }
   }
  },
  {
   "cell_type": "code",
   "execution_count": null,
   "outputs": [],
   "source": [
    "df.Age.mean() # What is the average age for people in the DS/ML field(s)"
   ],
   "metadata": {
    "collapsed": false,
    "pycharm": {
     "name": "#%%\n",
     "is_executing": true
    }
   }
  },
  {
   "cell_type": "code",
   "execution_count": null,
   "outputs": [],
   "source": [
    "df_origin.Age.mean() # What is the average age for people in the DS/ML field(s)"
   ],
   "metadata": {
    "collapsed": false,
    "pycharm": {
     "name": "#%%\n",
     "is_executing": true
    }
   }
  },
  {
   "cell_type": "code",
   "execution_count": null,
   "outputs": [],
   "source": [],
   "metadata": {
    "collapsed": false,
    "pycharm": {
     "name": "#%%\n",
     "is_executing": true
    }
   }
  },
  {
   "cell_type": "code",
   "execution_count": null,
   "outputs": [],
   "source": [
    "chart_values = df.Gender.value_counts() \n",
    "(chart_values/df.shape[0]).plot(kind=\"bar\");\n",
    "plt.title(\"Gender Groups\");"
   ],
   "metadata": {
    "collapsed": false,
    "pycharm": {
     "name": "#%%\n",
     "is_executing": true
    }
   }
  },
  {
   "cell_type": "code",
   "execution_count": null,
   "outputs": [],
   "source": [
    "chart_values = df_origin.Gender.value_counts() \n",
    "(chart_values/df_origin.shape[0]).plot(kind=\"bar\");\n",
    "plt.title(\"Gender Groups\");"
   ],
   "metadata": {
    "collapsed": false,
    "pycharm": {
     "name": "#%%\n",
     "is_executing": true
    }
   }
  },
  {
   "cell_type": "code",
   "execution_count": null,
   "outputs": [],
   "source": [],
   "metadata": {
    "collapsed": false,
    "pycharm": {
     "name": "#%%\n",
     "is_executing": true
    }
   }
  },
  {
   "cell_type": "code",
   "execution_count": null,
   "outputs": [],
   "source": [
    "list_values = count_lists(df, col='LanguageWorkedWith', delim=';')\n",
    "props_df = clean_and_plot(df, list_values, col='LanguageWorkedWith', title='Most Common Current Languages Used')"
   ],
   "metadata": {
    "collapsed": false,
    "pycharm": {
     "name": "#%%\n",
     "is_executing": true
    }
   }
  },
  {
   "cell_type": "code",
   "execution_count": null,
   "outputs": [],
   "source": [
    "list_values = count_lists(df_origin, col='LanguageWorkedWith', delim=';')\n",
    "props_df = clean_and_plot(df_origin, list_values, col='LanguageWorkedWith', title='Most Common Current Languages Used')"
   ],
   "metadata": {
    "collapsed": false,
    "pycharm": {
     "name": "#%%\n",
     "is_executing": true
    }
   }
  },
  {
   "cell_type": "code",
   "execution_count": null,
   "outputs": [],
   "source": [],
   "metadata": {
    "collapsed": false,
    "pycharm": {
     "name": "#%%\n",
     "is_executing": true
    }
   }
  },
  {
   "cell_type": "code",
   "execution_count": null,
   "outputs": [],
   "source": [
    "list_values = count_lists(df, col='LanguageDesireNextYear', delim=';')\n",
    "props_df = clean_and_plot(df, list_values, col='LanguageDesireNextYear', title='Most Desired Languages to Learn in 2020')"
   ],
   "metadata": {
    "collapsed": false,
    "pycharm": {
     "name": "#%%\n",
     "is_executing": true
    }
   }
  },
  {
   "cell_type": "code",
   "execution_count": null,
   "outputs": [],
   "source": [
    "list_values = count_lists(df_origin, col='LanguageDesireNextYear', delim=';')\n",
    "props_df = clean_and_plot(df_origin, list_values, col='LanguageDesireNextYear', title='Most Desired Languages to Learn in 2020')"
   ],
   "metadata": {
    "collapsed": false,
    "pycharm": {
     "name": "#%%\n",
     "is_executing": true
    }
   }
  },
  {
   "cell_type": "code",
   "execution_count": null,
   "outputs": [],
   "source": [],
   "metadata": {
    "collapsed": false,
    "pycharm": {
     "name": "#%%\n",
     "is_executing": true
    }
   }
  },
  {
   "cell_type": "code",
   "execution_count": null,
   "outputs": [],
   "source": [
    "list_values = count_lists(df, col='DatabaseWorkedWith', delim=';')\n",
    "props_df = clean_and_plot(df, list_values, col='DatabaseWorkedWith', title='Most Common Current DBs Used')"
   ],
   "metadata": {
    "collapsed": false,
    "pycharm": {
     "name": "#%%\n",
     "is_executing": true
    }
   }
  },
  {
   "cell_type": "code",
   "execution_count": null,
   "outputs": [],
   "source": [
    "list_values = count_lists(df_origin, col='DatabaseWorkedWith', delim=';')\n",
    "props_df = clean_and_plot(df_origin, list_values, col='DatabaseWorkedWith', title='Most Common Current DBs Used')"
   ],
   "metadata": {
    "collapsed": false,
    "pycharm": {
     "name": "#%%\n",
     "is_executing": true
    }
   }
  },
  {
   "cell_type": "code",
   "execution_count": null,
   "outputs": [],
   "source": [],
   "metadata": {
    "collapsed": false,
    "pycharm": {
     "name": "#%%\n",
     "is_executing": true
    }
   }
  },
  {
   "cell_type": "code",
   "execution_count": null,
   "outputs": [],
   "source": [
    "list_values = count_lists(df, col='DatabaseDesireNextYear', delim=';')\n",
    "props_df = clean_and_plot(df, list_values, col='DatabaseDesireNextYear', title='Most Common Current DBs Used')"
   ],
   "metadata": {
    "collapsed": false,
    "pycharm": {
     "name": "#%%\n",
     "is_executing": true
    }
   }
  },
  {
   "cell_type": "code",
   "execution_count": null,
   "outputs": [],
   "source": [
    "list_values = count_lists(df_origin, col='DatabaseDesireNextYear', delim=';')\n",
    "props_df = clean_and_plot(df_origin, list_values, col='DatabaseDesireNextYear', title='Most Common Current DBs Used')"
   ],
   "metadata": {
    "collapsed": false,
    "pycharm": {
     "name": "#%%\n",
     "is_executing": true
    }
   }
  },
  {
   "cell_type": "code",
   "execution_count": null,
   "outputs": [],
   "source": [],
   "metadata": {
    "collapsed": false,
    "pycharm": {
     "name": "#%%\n",
     "is_executing": true
    }
   }
  },
  {
   "cell_type": "code",
   "execution_count": null,
   "outputs": [],
   "source": [
    "chart_values = df.OpSys.value_counts() \n",
    "(chart_values/df.shape[0]).plot(kind=\"bar\");\n",
    "plt.title(\"Primary Operating System Used\");"
   ],
   "metadata": {
    "collapsed": false,
    "pycharm": {
     "name": "#%%\n",
     "is_executing": true
    }
   }
  },
  {
   "cell_type": "code",
   "execution_count": null,
   "outputs": [],
   "source": [
    "chart_values = df_origin.OpSys.value_counts() \n",
    "(chart_values/df_origin.shape[0]).plot(kind=\"bar\");\n",
    "plt.title(\"Primary Operating System Used\");"
   ],
   "metadata": {
    "collapsed": false,
    "pycharm": {
     "name": "#%%\n",
     "is_executing": true
    }
   }
  },
  {
   "cell_type": "code",
   "execution_count": null,
   "outputs": [],
   "source": [],
   "metadata": {
    "collapsed": false,
    "pycharm": {
     "name": "#%%\n",
     "is_executing": true
    }
   }
  },
  {
   "cell_type": "code",
   "execution_count": null,
   "outputs": [],
   "source": [
    "list_values = count_lists(df, col='DevEnviron', delim=';')\n",
    "props_df = clean_and_plot(df, list_values, col='DevEnviron', title='Dev Environments Used')"
   ],
   "metadata": {
    "collapsed": false,
    "pycharm": {
     "name": "#%%\n",
     "is_executing": true
    }
   }
  },
  {
   "cell_type": "code",
   "execution_count": null,
   "outputs": [],
   "source": [
    "list_values = count_lists(df_origin, col='DevEnviron', delim=';')\n",
    "props_df = clean_and_plot(df_origin, list_values, col='DevEnviron', title='Dev Environments Used')"
   ],
   "metadata": {
    "collapsed": false,
    "pycharm": {
     "name": "#%%\n",
     "is_executing": true
    }
   }
  },
  {
   "cell_type": "code",
   "execution_count": null,
   "outputs": [],
   "source": [],
   "metadata": {
    "collapsed": false,
    "pycharm": {
     "name": "#%%\n",
     "is_executing": true
    }
   }
  },
  {
   "cell_type": "code",
   "execution_count": null,
   "outputs": [],
   "source": [
    "list_values = count_lists(df, col='PlatformWorkedWith', delim=';')\n",
    "props_df = clean_and_plot(df, list_values, col='PlatformWorkedWith', title='Dev Environments Used')"
   ],
   "metadata": {
    "collapsed": false,
    "pycharm": {
     "name": "#%%\n",
     "is_executing": true
    }
   }
  },
  {
   "cell_type": "code",
   "execution_count": null,
   "outputs": [],
   "source": [
    "list_values = count_lists(df_origin, col='PlatformWorkedWith', delim=';')\n",
    "props_df = clean_and_plot(df_origin, list_values, col='PlatformWorkedWith', title='Dev Environments Used')"
   ],
   "metadata": {
    "collapsed": false,
    "pycharm": {
     "name": "#%%\n",
     "is_executing": true
    }
   }
  },
  {
   "cell_type": "code",
   "execution_count": null,
   "outputs": [],
   "source": [],
   "metadata": {
    "collapsed": false,
    "pycharm": {
     "name": "#%%\n",
     "is_executing": true
    }
   }
  },
  {
   "cell_type": "code",
   "execution_count": null,
   "outputs": [],
   "source": [
    "list_values = count_lists(df, col='ImpSyn', delim=';')\n",
    "props_df = clean_and_plot(df, list_values, col='ImpSyn', title='Self Rated Level of Competence')"
   ],
   "metadata": {
    "collapsed": false,
    "pycharm": {
     "name": "#%%\n",
     "is_executing": true
    }
   }
  },
  {
   "cell_type": "code",
   "execution_count": null,
   "outputs": [],
   "source": [
    "list_values = count_lists(df_origin, col='ImpSyn', delim=';')\n",
    "props_df = clean_and_plot(df_origin, list_values, col='ImpSyn', title='Self Rated Level of Competence')"
   ],
   "metadata": {
    "collapsed": false,
    "pycharm": {
     "name": "#%%\n",
     "is_executing": true
    }
   }
  },
  {
   "cell_type": "code",
   "execution_count": null,
   "outputs": [],
   "source": [],
   "metadata": {
    "collapsed": false,
    "pycharm": {
     "name": "#%%\n",
     "is_executing": true
    }
   }
  },
  {
   "cell_type": "code",
   "execution_count": null,
   "outputs": [],
   "source": [
    "list_values = count_lists(df, col='DevType', delim=';')\n",
    "list_values.remove('Data scientist or machine learning specialist')\n",
    "props_df = clean_and_plot(df, list_values, col='DevType', title='Other Roles')"
   ],
   "metadata": {
    "collapsed": false,
    "pycharm": {
     "name": "#%%\n",
     "is_executing": true
    }
   }
  },
  {
   "cell_type": "code",
   "execution_count": null,
   "outputs": [],
   "source": [],
   "metadata": {
    "collapsed": false,
    "pycharm": {
     "name": "#%%\n",
     "is_executing": true
    }
   }
  },
  {
   "cell_type": "code",
   "execution_count": null,
   "outputs": [],
   "source": [],
   "metadata": {
    "collapsed": false,
    "pycharm": {
     "name": "#%%\n",
     "is_executing": true
    }
   }
  }
 ],
 "metadata": {
  "kernelspec": {
   "display_name": "Python [default]",
   "language": "python",
   "name": "python3"
  },
  "language_info": {
   "codemirror_mode": {
    "name": "ipython",
    "version": 3
   },
   "file_extension": ".py",
   "mimetype": "text/x-python",
   "name": "python",
   "nbconvert_exporter": "python",
   "pygments_lexer": "ipython3",
   "version": "3.6.3"
  },
  "pycharm": {
   "stem_cell": {
    "cell_type": "raw",
    "source": [],
    "metadata": {
     "collapsed": false
    }
   }
  }
 },
 "nbformat": 4,
 "nbformat_minor": 1
}